{
 "cells": [
  {
   "cell_type": "markdown",
   "id": "d8809ae0-13dd-4d43-9116-e35e6c367a5c",
   "metadata": {},
   "source": [
    "Q1-Write a Python program to print \"Hello Python\"?"
   ]
  },
  {
   "cell_type": "code",
   "execution_count": null,
   "id": "00454c4d-e43f-4243-9d75-3137a67ebcb6",
   "metadata": {},
   "outputs": [],
   "source": [
    "print(\"HELLO PYTHON\")"
   ]
  },
  {
   "cell_type": "markdown",
   "id": "9ab1dbe1-3302-4d84-a146-2e79570c9a74",
   "metadata": {},
   "source": [
    "Q2-Write a Python program to do arithmetical operations addition and division.?"
   ]
  },
  {
   "cell_type": "code",
   "execution_count": null,
   "id": "53fd06e8-5774-46c6-9976-fa4be984a38b",
   "metadata": {},
   "outputs": [],
   "source": [
    "def addition(x, y):\n",
    "    return x + y\n",
    "\n",
    "def division(x, y):\n",
    "    if y == 0:\n",
    "        return \"Cannot divide by zero\"\n",
    "    else:\n",
    "        return x / y\n",
    "\n",
    "# Example usage:\n",
    "num1 = 10\n",
    "num2 = 5\n",
    "\n",
    "print(\"Addition:\", addition(num1, num2))\n",
    "print(\"Division:\", division(num1, num2))"
   ]
  },
  {
   "cell_type": "markdown",
   "id": "19110e5e-848a-46fb-85ca-1853e147c7d2",
   "metadata": {},
   "source": [
    "Q3-Write a Python program to find the area of a triangle?"
   ]
  },
  {
   "cell_type": "code",
   "execution_count": null,
   "id": "59d1bb7a-d968-4ba2-b1c3-515191243a18",
   "metadata": {},
   "outputs": [],
   "source": [
    "def triangle_area(base, height):\n",
    "    return 0.5 * base * height\n",
    "\n",
    "# Example usage:\n",
    "base_length = 10\n",
    "height_length = 5\n",
    "\n",
    "area = triangle_area(base_length, height_length)\n",
    "print(\"The area of the triangle is:\", area)"
   ]
  },
  {
   "cell_type": "markdown",
   "id": "f3b36288-d926-4737-8c3f-4005dfaa9465",
   "metadata": {},
   "source": [
    "Q4-Write a Python program to swap two variables?"
   ]
  },
  {
   "cell_type": "code",
   "execution_count": null,
   "id": "673bb9b2-2e79-4a0a-a644-f7b4b978eb1f",
   "metadata": {},
   "outputs": [],
   "source": [
    "def swap_without_temp(a, b):\n",
    "    return b, a\n",
    "\n",
    "# Example usage:\n",
    "x = 5\n",
    "y = 10\n",
    "\n",
    "x, y = swap_without_temp(x, y)\n",
    "print(\"After swapping without using temporary variable:\")\n",
    "print(\"x =\", x)\n",
    "print(\"y =\", y)"
   ]
  },
  {
   "cell_type": "code",
   "execution_count": null,
   "id": "c939996b-f0c9-48b8-bbf2-f6fd719403df",
   "metadata": {},
   "outputs": [],
   "source": [
    "Q5-Write a Python program to generate a random number?"
   ]
  },
  {
   "cell_type": "code",
   "execution_count": null,
   "id": "1d34c876-bfc4-41c1-bd2f-a1fdf30392f5",
   "metadata": {},
   "outputs": [],
   "source": [
    "import random\n",
    "\n",
    "# Generate a random integer between 0 and 100 inclusive\n",
    "random_number = random.randint(0, 100)\n",
    "\n",
    "print(\"Random number:\", random_number)"
   ]
  }
 ],
 "metadata": {
  "kernelspec": {
   "display_name": "Python 3 (ipykernel)",
   "language": "python",
   "name": "python3"
  },
  "language_info": {
   "codemirror_mode": {
    "name": "ipython",
    "version": 3
   },
   "file_extension": ".py",
   "mimetype": "text/x-python",
   "name": "python",
   "nbconvert_exporter": "python",
   "pygments_lexer": "ipython3",
   "version": "3.10.8"
  }
 },
 "nbformat": 4,
 "nbformat_minor": 5
}
