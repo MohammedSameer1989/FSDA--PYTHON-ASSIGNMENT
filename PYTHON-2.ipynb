{
 "cells": [
  {
   "cell_type": "markdown",
   "id": "520bfef3-e2a0-4539-9b1b-606741874b22",
   "metadata": {},
   "source": [
    "Q1-Write a Python program to convert kilometers to miles?"
   ]
  },
  {
   "cell_type": "code",
   "execution_count": 7,
   "id": "eadb419c-cfb6-458e-851a-9c0144bb1e8e",
   "metadata": {},
   "outputs": [
    {
     "name": "stdin",
     "output_type": "stream",
     "text": [
      "Enter distance in kilometers:  10\n"
     ]
    },
    {
     "name": "stdout",
     "output_type": "stream",
     "text": [
      "10.0 kilometers is equal to 6.21371 miles.\n"
     ]
    }
   ],
   "source": [
    "def km_to_miles(km):\n",
    "    # 1 kilometer is equal to 0.621371 miles\n",
    "    miles = km * 0.621371\n",
    "    return miles\n",
    "\n",
    "# Input from the user\n",
    "kilometers = float(input(\"Enter distance in kilometers: \"))\n",
    "\n",
    "# Convert kilometers to miles\n",
    "miles = km_to_miles(kilometers)\n",
    "\n",
    "# Display the result\n",
    "print(f\"{kilometers} kilometers is equal to {miles} miles.\")"
   ]
  },
  {
   "cell_type": "markdown",
   "id": "f5ac75c8-81fd-4bd9-9dc0-91ffa4bfafd6",
   "metadata": {},
   "source": [
    "Q2-Write a Python program to convert Celsius to Fahrenheit?"
   ]
  },
  {
   "cell_type": "code",
   "execution_count": 8,
   "id": "8af9e878-41a4-4a18-a2f4-a87ae2b8976f",
   "metadata": {},
   "outputs": [
    {
     "name": "stdin",
     "output_type": "stream",
     "text": [
      "Enter temperature in Celsius:  35\n"
     ]
    },
    {
     "name": "stdout",
     "output_type": "stream",
     "text": [
      "35.0 degrees Celsius is equal to 95.0 degrees Fahrenheit.\n"
     ]
    }
   ],
   "source": [
    "def celsius_to_fahrenheit(celsius):\n",
    "    # Formula to convert Celsius to Fahrenheit: (Celsius * 9/5) + 32\n",
    "    fahrenheit = (celsius * 9/5) + 32\n",
    "    return fahrenheit\n",
    "\n",
    "# Input from the user\n",
    "celsius = float(input(\"Enter temperature in Celsius: \"))\n",
    "\n",
    "# Convert Celsius to Fahrenheit\n",
    "fahrenheit = celsius_to_fahrenheit(celsius)\n",
    "\n",
    "# Display the result\n",
    "print(f\"{celsius} degrees Celsius is equal to {fahrenheit} degrees Fahrenheit.\")"
   ]
  },
  {
   "cell_type": "code",
   "execution_count": null,
   "id": "4da1a283-0426-412f-97a4-1a16cf8b683f",
   "metadata": {},
   "outputs": [],
   "source": [
    "Q3-Write a Python program to display calendar?"
   ]
  },
  {
   "cell_type": "code",
   "execution_count": 11,
   "id": "d748f18a-cdeb-4ade-afbd-5e1e53f2828d",
   "metadata": {},
   "outputs": [
    {
     "name": "stdin",
     "output_type": "stream",
     "text": [
      "Enter the year:  2024\n",
      "Enter the month (1-12):  4\n"
     ]
    },
    {
     "name": "stdout",
     "output_type": "stream",
     "text": [
      "Calendar:\n",
      "     April 2024\n",
      "Mo Tu We Th Fr Sa Su\n",
      " 1  2  3  4  5  6  7\n",
      " 8  9 10 11 12 13 14\n",
      "15 16 17 18 19 20 21\n",
      "22 23 24 25 26 27 28\n",
      "29 30\n",
      "\n"
     ]
    }
   ],
   "source": [
    "import calendar\n",
    "\n",
    "def display_calendar(year, month):\n",
    "    # Generate the calendar for the specified year and month\n",
    "    cal = calendar.month(year, month)\n",
    "    return cal\n",
    "\n",
    "# Input from the user\n",
    "year = int(input(\"Enter the year: \"))\n",
    "month = int(input(\"Enter the month (1-12): \"))\n",
    "\n",
    "# Display the calendar for the specified year and month\n",
    "print(\"Calendar:\")\n",
    "print(display_calendar(year, month))"
   ]
  },
  {
   "cell_type": "markdown",
   "id": "ce76cf45-41ba-4fd3-b144-a6c49909296b",
   "metadata": {},
   "source": [
    "Q4-Write a Python program to solve quadratic equation?"
   ]
  },
  {
   "cell_type": "code",
   "execution_count": 12,
   "id": "205208cd-ae2b-467a-9486-74010c20c6fd",
   "metadata": {},
   "outputs": [
    {
     "name": "stdin",
     "output_type": "stream",
     "text": [
      "Enter the coefficient a:  12\n",
      "Enter the coefficient b:  12\n",
      "Enter the coefficient c:  12\n"
     ]
    },
    {
     "name": "stdout",
     "output_type": "stream",
     "text": [
      "The solutions are: (-0.5-0.8660254037844387j) and (-0.5+0.8660254037844387j)\n"
     ]
    }
   ],
   "source": [
    "import cmath\n",
    "\n",
    "def solve_quadratic(a, b, c):\n",
    "    # Calculate the discriminant\n",
    "    d = (b**2) - (4*a*c)\n",
    "    \n",
    "    # Find the two solutions\n",
    "    sol1 = (-b - cmath.sqrt(d)) / (2*a)\n",
    "    sol2 = (-b + cmath.sqrt(d)) / (2*a)\n",
    "    \n",
    "    return sol1, sol2\n",
    "\n",
    "# Input from the user\n",
    "a = float(input(\"Enter the coefficient a: \"))\n",
    "b = float(input(\"Enter the coefficient b: \"))\n",
    "c = float(input(\"Enter the coefficient c: \"))\n",
    "\n",
    "# Solve the quadratic equation\n",
    "solution1, solution2 = solve_quadratic(a, b, c)\n",
    "\n",
    "# Display the solutions\n",
    "print(f\"The solutions are: {solution1} and {solution2}\")"
   ]
  },
  {
   "cell_type": "markdown",
   "id": "6f466cf4-f5ea-45d1-a7a9-e4f7869007ed",
   "metadata": {},
   "source": [
    "Q5-Write a Python program to swap two variables without temp variable?"
   ]
  },
  {
   "cell_type": "code",
   "execution_count": 14,
   "id": "8417d04f-6cd4-424d-ad5f-e771478f4363",
   "metadata": {},
   "outputs": [
    {
     "name": "stdin",
     "output_type": "stream",
     "text": [
      "Enter the value of a:  C\n",
      "Enter the value of b:  D\n"
     ]
    },
    {
     "name": "stdout",
     "output_type": "stream",
     "text": [
      "Before swapping: a = C, b = D\n",
      "After swapping: a = D, b = C\n"
     ]
    }
   ],
   "source": [
    "def swap_variables(a, b):\n",
    "    # Swap the values of a and b\n",
    "    a, b = b, a\n",
    "    return a, b\n",
    "\n",
    "# Input from the user\n",
    "a = input(\"Enter the value of a: \")\n",
    "b = input(\"Enter the value of b: \")\n",
    "\n",
    "# Display the values before swapping\n",
    "print(f\"Before swapping: a = {a}, b = {b}\")\n",
    "\n",
    "# Swap the variables\n",
    "a, b = swap_variables(a, b)\n",
    "\n",
    "# Display the values after swapping\n",
    "print(f\"After swapping: a = {a}, b = {b}\")"
   ]
  }
 ],
 "metadata": {
  "kernelspec": {
   "display_name": "Python 3 (ipykernel)",
   "language": "python",
   "name": "python3"
  },
  "language_info": {
   "codemirror_mode": {
    "name": "ipython",
    "version": 3
   },
   "file_extension": ".py",
   "mimetype": "text/x-python",
   "name": "python",
   "nbconvert_exporter": "python",
   "pygments_lexer": "ipython3",
   "version": "3.10.8"
  }
 },
 "nbformat": 4,
 "nbformat_minor": 5
}
