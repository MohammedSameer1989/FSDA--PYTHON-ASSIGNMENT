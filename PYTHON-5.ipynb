{
 "cells": [
  {
   "cell_type": "markdown",
   "id": "940e4ef3-64cb-46f0-9254-fe67bce76d73",
   "metadata": {},
   "source": [
    "Q1-Write a Python Program to Find LCM?"
   ]
  },
  {
   "cell_type": "code",
   "execution_count": 1,
   "id": "e5c57988-5507-4cb9-8dff-ea2cac582902",
   "metadata": {},
   "outputs": [
    {
     "name": "stdout",
     "output_type": "stream",
     "text": [
      "The LCM of 12 and 18 is: 36\n"
     ]
    }
   ],
   "source": [
    "def gcd(x, y):\n",
    "    while y != 0:\n",
    "        x, y = y, x % y\n",
    "    return x\n",
    "\n",
    "def lcm(x, y):\n",
    "    return (x * y) // gcd(x, y)\n",
    "\n",
    "# Test the function with two numbers\n",
    "num1 = 12\n",
    "num2 = 18\n",
    "print(f\"The LCM of {num1} and {num2} is: {lcm(num1, num2)}\")"
   ]
  },
  {
   "cell_type": "markdown",
   "id": "01e64c03-398b-450c-b439-214b2f03a7d5",
   "metadata": {},
   "source": [
    "Q2-Write a Python Program to Find HCF?"
   ]
  },
  {
   "cell_type": "code",
   "execution_count": 2,
   "id": "8bb95419-6a9b-45b7-91fd-1043a150a9a8",
   "metadata": {},
   "outputs": [
    {
     "name": "stdout",
     "output_type": "stream",
     "text": [
      "The HCF of 48 and 60 is: 12\n"
     ]
    }
   ],
   "source": [
    "def gcd(x, y):\n",
    "    while y != 0:\n",
    "        x, y = y, x % y\n",
    "    return x\n",
    "\n",
    "# Test the function with two numbers\n",
    "num1 = 48\n",
    "num2 = 60\n",
    "print(f\"The HCF of {num1} and {num2} is: {gcd(num1, num2)}\")"
   ]
  },
  {
   "cell_type": "markdown",
   "id": "bab85f20-9c45-4cf5-b85c-bf8d0ecad778",
   "metadata": {},
   "source": [
    "Q3-Write a Python Program to Convert Decimal to Binary, Octal and Hexadecimal?"
   ]
  },
  {
   "cell_type": "markdown",
   "id": "d35ebe97-1315-445d-90b2-684eba26b628",
   "metadata": {},
   "source": [
    "def decimal_to_binary(decimal):\n",
    "    return bin(decimal).replace(\"0b\", \"\")\n",
    "\n",
    "def decimal_to_octal(decimal):\n",
    "    return oct(decimal).replace(\"0o\", \"\")\n",
    "\n",
    "def decimal_to_hexadecimal(decimal):\n",
    "    return hex(decimal).replace(\"0x\", \"\").upper()\n",
    "\n",
    "# Test the functions with a decimal number\n",
    "decimal_num = 123\n",
    "\n",
    "binary_num = decimal_to_binary(decimal_num)\n",
    "octal_num = decimal_to_octal(decimal_num)\n",
    "hexadecimal_num = decimal_to_hexadecimal(decimal_num)\n",
    "\n",
    "print(f\"Decimal number {decimal_num} in binary: {binary_num}\")\n",
    "print(f\"Decimal number {decimal_num} in octal: {octal_num}\")\n",
    "print(f\"Decimal number {decimal_num} in hexadecimal: {hexadecimal_num}\")\n"
   ]
  },
  {
   "cell_type": "markdown",
   "id": "e646a27f-c423-4da5-9fbd-197eb7e4bb2a",
   "metadata": {},
   "source": [
    "Q4-Write a Python Program To Find ASCII value of a character?"
   ]
  },
  {
   "cell_type": "code",
   "execution_count": 3,
   "id": "857a4792-98f3-43a3-ac8e-04714c877a4c",
   "metadata": {},
   "outputs": [
    {
     "name": "stdout",
     "output_type": "stream",
     "text": [
      "The ASCII value of 'A' is: 65\n"
     ]
    }
   ],
   "source": [
    "def ascii_value(char):\n",
    "    return ord(char)\n",
    "\n",
    "# Test the function with a character\n",
    "character = 'A'\n",
    "print(f\"The ASCII value of '{character}' is: {ascii_value(character)}\")"
   ]
  },
  {
   "cell_type": "markdown",
   "id": "3521bca3-dae3-45eb-b11d-5c82eb229073",
   "metadata": {},
   "source": [
    "Q5-Write a Python Program to Make a Simple Calculator with 4 basic mathematical operations?"
   ]
  },
  {
   "cell_type": "code",
   "execution_count": 4,
   "id": "473d706e-8bb3-432b-b315-72c887c25ffc",
   "metadata": {},
   "outputs": [
    {
     "name": "stdout",
     "output_type": "stream",
     "text": [
      "Select operation:\n",
      "1. Addition\n",
      "2. Subtraction\n",
      "3. Multiplication\n",
      "4. Division\n"
     ]
    },
    {
     "name": "stdin",
     "output_type": "stream",
     "text": [
      "Enter choice (1/2/3/4):  3\n",
      "Enter first number:  2\n",
      "Enter second number:  1\n"
     ]
    },
    {
     "name": "stdout",
     "output_type": "stream",
     "text": [
      "Result: 2.0\n"
     ]
    },
    {
     "name": "stdin",
     "output_type": "stream",
     "text": [
      "Do you want to perform another calculation? (yes/no):  NO\n"
     ]
    }
   ],
   "source": [
    "def add(x, y):\n",
    "    return x + y\n",
    "\n",
    "def subtract(x, y):\n",
    "    return x - y\n",
    "\n",
    "def multiply(x, y):\n",
    "    return x * y\n",
    "\n",
    "def divide(x, y):\n",
    "    if y == 0:\n",
    "        return \"Cannot divide by zero\"\n",
    "    else:\n",
    "        return x / y\n",
    "\n",
    "print(\"Select operation:\")\n",
    "print(\"1. Addition\")\n",
    "print(\"2. Subtraction\")\n",
    "print(\"3. Multiplication\")\n",
    "print(\"4. Division\")\n",
    "\n",
    "while True:\n",
    "    choice = input(\"Enter choice (1/2/3/4): \")\n",
    "\n",
    "    if choice in ('1', '2', '3', '4'):\n",
    "        num1 = float(input(\"Enter first number: \"))\n",
    "        num2 = float(input(\"Enter second number: \"))\n",
    "\n",
    "        if choice == '1':\n",
    "            print(\"Result:\", add(num1, num2))\n",
    "        elif choice == '2':\n",
    "            print(\"Result:\", subtract(num1, num2))\n",
    "        elif choice == '3':\n",
    "            print(\"Result:\", multiply(num1, num2))\n",
    "        elif choice == '4':\n",
    "            print(\"Result:\", divide(num1, num2))\n",
    "    else:\n",
    "        print(\"Invalid input\")\n",
    "\n",
    "    again = input(\"Do you want to perform another calculation? (yes/no): \")\n",
    "    if again.lower() != 'yes':\n",
    "        break"
   ]
  }
 ],
 "metadata": {
  "kernelspec": {
   "display_name": "Python 3 (ipykernel)",
   "language": "python",
   "name": "python3"
  },
  "language_info": {
   "codemirror_mode": {
    "name": "ipython",
    "version": 3
   },
   "file_extension": ".py",
   "mimetype": "text/x-python",
   "name": "python",
   "nbconvert_exporter": "python",
   "pygments_lexer": "ipython3",
   "version": "3.10.8"
  }
 },
 "nbformat": 4,
 "nbformat_minor": 5
}
