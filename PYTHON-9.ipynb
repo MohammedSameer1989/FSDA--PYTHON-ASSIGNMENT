{
 "cells": [
  {
   "cell_type": "code",
   "execution_count": null,
   "id": "b29409ce-369a-4f9c-a330-f5a66ec4df8d",
   "metadata": {},
   "outputs": [],
   "source": [
    "Q1-Write a Python program to check if the given number is a Disarium Number?"
   ]
  },
  {
   "cell_type": "code",
   "execution_count": 1,
   "id": "ca50dd4b-364e-4410-ad96-089b33f085dd",
   "metadata": {},
   "outputs": [
    {
     "name": "stdin",
     "output_type": "stream",
     "text": [
      "Enter a number:  12\n"
     ]
    },
    {
     "name": "stdout",
     "output_type": "stream",
     "text": [
      "12 is not a Disarium number\n"
     ]
    }
   ],
   "source": [
    "def is_disarium_number(num):\n",
    "    # Convert the number to a string to access its digits\n",
    "    num_str = str(num)\n",
    "    \n",
    "    # Calculate the sum of digits raised to their respective positions\n",
    "    sum_of_digits = sum(int(digit) ** (index + 1) for index, digit in enumerate(num_str))\n",
    "    \n",
    "    # Check if the sum is equal to the original number\n",
    "    return sum_of_digits == num\n",
    "\n",
    "# Test the program\n",
    "num = int(input(\"Enter a number: \"))\n",
    "if is_disarium_number(num):\n",
    "    print(num, \"is a Disarium number\")\n",
    "else:\n",
    "    print(num, \"is not a Disarium number\")"
   ]
  },
  {
   "cell_type": "code",
   "execution_count": null,
   "id": "fe406b87-a72b-41e2-883f-717aea7f4514",
   "metadata": {},
   "outputs": [],
   "source": [
    "Q2-Write a Python program to print all disarium numbers between 1 to 100?"
   ]
  },
  {
   "cell_type": "code",
   "execution_count": 2,
   "id": "5ee6ae24-2b91-48c9-bc2a-34caedec0388",
   "metadata": {},
   "outputs": [
    {
     "name": "stdout",
     "output_type": "stream",
     "text": [
      "Disarium numbers between 1 and 100 are: [1, 2, 3, 4, 5, 6, 7, 8, 9, 89]\n"
     ]
    }
   ],
   "source": [
    "def is_disarium_number(num):\n",
    "    num_str = str(num)\n",
    "    sum_of_digits = sum(int(digit) ** (index + 1) for index, digit in enumerate(num_str))\n",
    "    return sum_of_digits == num\n",
    "\n",
    "def find_disarium_numbers(start, end):\n",
    "    disarium_numbers = []\n",
    "    for num in range(start, end + 1):\n",
    "        if is_disarium_number(num):\n",
    "            disarium_numbers.append(num)\n",
    "    return disarium_numbers\n",
    "\n",
    "# Test the program\n",
    "start = 1\n",
    "end = 100\n",
    "disarium_numbers = find_disarium_numbers(start, end)\n",
    "print(\"Disarium numbers between\", start, \"and\", end, \"are:\", disarium_numbers)"
   ]
  },
  {
   "cell_type": "code",
   "execution_count": null,
   "id": "90ed6fe0-7b84-498d-9e2a-9815c6f85096",
   "metadata": {},
   "outputs": [],
   "source": [
    "Q3-Write a Python program to check if the given number is Happy Number?"
   ]
  },
  {
   "cell_type": "code",
   "execution_count": 3,
   "id": "1ee83b4e-4e61-4881-8a0b-77e5d022d469",
   "metadata": {},
   "outputs": [
    {
     "name": "stdin",
     "output_type": "stream",
     "text": [
      "Enter a number:  12\n"
     ]
    },
    {
     "name": "stdout",
     "output_type": "stream",
     "text": [
      "12 is not a happy number\n"
     ]
    }
   ],
   "source": [
    "def is_happy_number(num):\n",
    "    seen = set()\n",
    "    while num != 1 and num not in seen:\n",
    "        seen.add(num)\n",
    "        num = sum(int(digit)**2 for digit in str(num))\n",
    "    return num == 1\n",
    "\n",
    "# Test the program\n",
    "num = int(input(\"Enter a number: \"))\n",
    "if is_happy_number(num):\n",
    "    print(num, \"is a happy number\")\n",
    "else:\n",
    "    print(num, \"is not a happy number\")"
   ]
  },
  {
   "cell_type": "code",
   "execution_count": null,
   "id": "3a3c900b-5e02-46b1-834b-0b8a74446e5b",
   "metadata": {},
   "outputs": [],
   "source": [
    "Q4- Write a Python program to print all happy numbers between 1 and 100?"
   ]
  },
  {
   "cell_type": "code",
   "execution_count": 4,
   "id": "31e26099-d8a5-4ded-b94f-fa88f43412d2",
   "metadata": {},
   "outputs": [
    {
     "name": "stdout",
     "output_type": "stream",
     "text": [
      "Happy numbers between 1 and 100 are: [1, 7, 10, 13, 19, 23, 28, 31, 32, 44, 49, 68, 70, 79, 82, 86, 91, 94, 97, 100]\n"
     ]
    }
   ],
   "source": [
    "def is_happy_number(num):\n",
    "    seen = set()\n",
    "    while num != 1 and num not in seen:\n",
    "        seen.add(num)\n",
    "        num = sum(int(digit)**2 for digit in str(num))\n",
    "    return num == 1\n",
    "\n",
    "def find_happy_numbers(start, end):\n",
    "    happy_numbers = []\n",
    "    for num in range(start, end + 1):\n",
    "        if is_happy_number(num):\n",
    "            happy_numbers.append(num)\n",
    "    return happy_numbers\n",
    "\n",
    "# Test the program\n",
    "start = 1\n",
    "end = 100\n",
    "happy_numbers = find_happy_numbers(start, end)\n",
    "print(\"Happy numbers between\", start, \"and\", end, \"are:\", happy_numbers)"
   ]
  },
  {
   "cell_type": "code",
   "execution_count": null,
   "id": "813bb752-78a3-4e45-b15e-c4de32c13b4e",
   "metadata": {},
   "outputs": [],
   "source": [
    "Q5-Write a Python program to determine whether the given number is a Harshad Number?"
   ]
  },
  {
   "cell_type": "code",
   "execution_count": 5,
   "id": "60aa9a47-7dcb-432f-8ea0-9fe1c58ac6df",
   "metadata": {},
   "outputs": [
    {
     "name": "stdin",
     "output_type": "stream",
     "text": [
      "Enter a number:  23\n"
     ]
    },
    {
     "name": "stdout",
     "output_type": "stream",
     "text": [
      "23 is not a Harshad number\n"
     ]
    }
   ],
   "source": [
    "def is_harshad_number(num):\n",
    "    # Calculate the sum of digits of the number\n",
    "    digit_sum = sum(int(digit) for digit in str(num))\n",
    "    \n",
    "    # Check if the number is divisible by the sum of its digits\n",
    "    return num % digit_sum == 0\n",
    "\n",
    "# Test the program\n",
    "num = int(input(\"Enter a number: \"))\n",
    "if is_harshad_number(num):\n",
    "    print(num, \"is a Harshad number\")\n",
    "else:\n",
    "    print(num, \"is not a Harshad number\")"
   ]
  },
  {
   "cell_type": "code",
   "execution_count": null,
   "id": "d8c7f0d9-9d3a-4ebe-b4c8-f3dca37fdde4",
   "metadata": {},
   "outputs": [],
   "source": []
  },
  {
   "cell_type": "code",
   "execution_count": null,
   "id": "29b0bc92-ec31-4706-b08d-105a9d9fc75e",
   "metadata": {},
   "outputs": [],
   "source": []
  }
 ],
 "metadata": {
  "kernelspec": {
   "display_name": "Python 3 (ipykernel)",
   "language": "python",
   "name": "python3"
  },
  "language_info": {
   "codemirror_mode": {
    "name": "ipython",
    "version": 3
   },
   "file_extension": ".py",
   "mimetype": "text/x-python",
   "name": "python",
   "nbconvert_exporter": "python",
   "pygments_lexer": "ipython3",
   "version": "3.10.8"
  }
 },
 "nbformat": 4,
 "nbformat_minor": 5
}
