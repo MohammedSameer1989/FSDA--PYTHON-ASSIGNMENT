{
 "cells": [
  {
   "cell_type": "code",
   "execution_count": null,
   "id": "201eabaa-f806-48b2-98c6-a904e8efdd31",
   "metadata": {},
   "outputs": [],
   "source": [
    "Q1-Write a Python Program to Display Fibonacci Sequence Using Recursion?"
   ]
  },
  {
   "cell_type": "code",
   "execution_count": 1,
   "id": "c353f217-035f-411b-b4e2-0d6febb14d96",
   "metadata": {},
   "outputs": [
    {
     "name": "stdin",
     "output_type": "stream",
     "text": [
      "Enter the number of terms in the Fibonacci sequence:  12\n"
     ]
    },
    {
     "name": "stdout",
     "output_type": "stream",
     "text": [
      "Fibonacci sequence:\n",
      "0 1 1 2 3 5 8 13 21 34 55 89 "
     ]
    }
   ],
   "source": [
    "def fibonacci(n):\n",
    "    if n <= 1:\n",
    "        return n\n",
    "    else:\n",
    "        return fibonacci(n-1) + fibonacci(n-2)\n",
    "\n",
    "def display_fibonacci_sequence(count):\n",
    "    if count <= 0:\n",
    "        print(\"Please enter a positive integer.\")\n",
    "    else:\n",
    "        print(\"Fibonacci sequence:\")\n",
    "        for i in range(count):\n",
    "            print(fibonacci(i), end=\" \")\n",
    "\n",
    "# Test the program\n",
    "count = int(input(\"Enter the number of terms in the Fibonacci sequence: \"))\n",
    "display_fibonacci_sequence(count)"
   ]
  },
  {
   "cell_type": "code",
   "execution_count": null,
   "id": "414b4b85-fa62-4271-a216-8ce743b8895e",
   "metadata": {},
   "outputs": [],
   "source": [
    "Q2-Write a Python Program to Find Factorial of Number Using Recursion?"
   ]
  },
  {
   "cell_type": "code",
   "execution_count": null,
   "id": "4ed47967-8c46-44a8-a118-4384dbab22b0",
   "metadata": {},
   "outputs": [],
   "source": [
    "def factorial(n):\n",
    "    if n == 0:\n",
    "        return 1\n",
    "    else:\n",
    "        return n * factorial(n-1)\n",
    "\n",
    "# Test the program\n",
    "num = int(input(\"Enter a non-negative integer to find its factorial: \"))\n",
    "if num < 0:\n",
    "    print(\"Factorial is not defined for negative numbers.\")\n",
    "else:\n",
    "    print(f\"The factorial of {num} is {factorial(num)}\")\n"
   ]
  },
  {
   "cell_type": "code",
   "execution_count": null,
   "id": "9791dbdf-7188-4975-8f05-61ebbb24d74a",
   "metadata": {},
   "outputs": [],
   "source": [
    "Q3-Write a Python Program to calculate your Body Mass Index?"
   ]
  },
  {
   "cell_type": "code",
   "execution_count": 2,
   "id": "1b0d6805-fa5b-4a52-b89c-156187208739",
   "metadata": {},
   "outputs": [
    {
     "name": "stdin",
     "output_type": "stream",
     "text": [
      "Enter your weight in kilograms:  78\n",
      "Enter your height in meters:  180\n"
     ]
    },
    {
     "name": "stdout",
     "output_type": "stream",
     "text": [
      "Your Body Mass Index (BMI) is: 0.0024074074074074076\n",
      "You are categorized as: Underweight\n"
     ]
    }
   ],
   "source": [
    "def calculate_bmi(weight, height):\n",
    "    # BMI formula: weight (kg) / height (m)^2\n",
    "    bmi = weight / (height ** 2)\n",
    "    return bmi\n",
    "\n",
    "def interpret_bmi(bmi):\n",
    "    if bmi < 18.5:\n",
    "        return \"Underweight\"\n",
    "    elif bmi >= 18.5 and bmi < 25:\n",
    "        return \"Normal weight\"\n",
    "    elif bmi >= 25 and bmi < 30:\n",
    "        return \"Overweight\"\n",
    "    else:\n",
    "        return \"Obese\"\n",
    "\n",
    "# Test the program\n",
    "weight = float(input(\"Enter your weight in kilograms: \"))\n",
    "height = float(input(\"Enter your height in meters: \"))\n",
    "\n",
    "bmi = calculate_bmi(weight, height)\n",
    "print(\"Your Body Mass Index (BMI) is:\", bmi)\n",
    "print(\"You are categorized as:\", interpret_bmi(bmi))"
   ]
  },
  {
   "cell_type": "code",
   "execution_count": null,
   "id": "ee941851-adf0-4830-87ed-597b6c1e1390",
   "metadata": {},
   "outputs": [],
   "source": [
    "Q4-Write a Python Program to calculate the natural logarithm of any number?"
   ]
  },
  {
   "cell_type": "code",
   "execution_count": 3,
   "id": "1527b2ad-fd82-4847-9198-acc2d83311d3",
   "metadata": {},
   "outputs": [
    {
     "name": "stdin",
     "output_type": "stream",
     "text": [
      "Enter a positive number to calculate its natural logarithm:  12\n"
     ]
    },
    {
     "name": "stdout",
     "output_type": "stream",
     "text": [
      "The natural logarithm of 12.0 is: 2.4849066497880004\n"
     ]
    }
   ],
   "source": [
    "import math\n",
    "\n",
    "def calculate_natural_logarithm(number):\n",
    "    if number <= 0:\n",
    "        return \"Natural logarithm is not defined for non-positive numbers.\"\n",
    "    else:\n",
    "        return math.log(number)\n",
    "\n",
    "# Test the program\n",
    "number = float(input(\"Enter a positive number to calculate its natural logarithm: \"))\n",
    "print(\"The natural logarithm of\", number, \"is:\", calculate_natural_logarithm(number))"
   ]
  },
  {
   "cell_type": "code",
   "execution_count": null,
   "id": "b2aed10f-a19f-4e41-ac55-33925aeb75ca",
   "metadata": {},
   "outputs": [],
   "source": [
    "Q5-Write a Python Program for cube sum of first n natural numbers?"
   ]
  },
  {
   "cell_type": "code",
   "execution_count": 4,
   "id": "0249eb4a-7a39-4b6c-a430-893b0fc86bfa",
   "metadata": {},
   "outputs": [
    {
     "name": "stdin",
     "output_type": "stream",
     "text": [
      "Enter a positive integer (n):  12\n"
     ]
    },
    {
     "name": "stdout",
     "output_type": "stream",
     "text": [
      "Cube sum of the first 12 natural numbers is: 6084\n"
     ]
    }
   ],
   "source": [
    "def cube_sum_of_natural_numbers(n):\n",
    "    if n <= 0:\n",
    "        return \"Please enter a positive integer.\"\n",
    "    else:\n",
    "        cube_sum = sum(i**3 for i in range(1, n+1))\n",
    "        return cube_sum\n",
    "\n",
    "# Test the program\n",
    "n = int(input(\"Enter a positive integer (n): \"))\n",
    "print(\"Cube sum of the first\", n, \"natural numbers is:\", cube_sum_of_natural_numbers(n))\n"
   ]
  }
 ],
 "metadata": {
  "kernelspec": {
   "display_name": "Python 3 (ipykernel)",
   "language": "python",
   "name": "python3"
  },
  "language_info": {
   "codemirror_mode": {
    "name": "ipython",
    "version": 3
   },
   "file_extension": ".py",
   "mimetype": "text/x-python",
   "name": "python",
   "nbconvert_exporter": "python",
   "pygments_lexer": "ipython3",
   "version": "3.10.8"
  }
 },
 "nbformat": 4,
 "nbformat_minor": 5
}
