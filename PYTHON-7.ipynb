{
 "cells": [
  {
   "cell_type": "code",
   "execution_count": null,
   "id": "e54d65d9-7ae9-450f-bd1e-7824fb013b54",
   "metadata": {},
   "outputs": [],
   "source": [
    "Q1-Write a Python Program to find sum of array?"
   ]
  },
  {
   "cell_type": "code",
   "execution_count": 1,
   "id": "5a5479c7-87a9-4a59-8665-169247e1606f",
   "metadata": {},
   "outputs": [
    {
     "name": "stdout",
     "output_type": "stream",
     "text": [
      "Sum of the array: 150\n"
     ]
    }
   ],
   "source": [
    "def array_sum(arr):\n",
    "    # Initialize sum to 0\n",
    "    total = 0\n",
    "    # Iterate through the array and add each element to the sum\n",
    "    for num in arr:\n",
    "        total += num\n",
    "    return total\n",
    "\n",
    "# Test the program\n",
    "array = [10, 20, 30, 40, 50]\n",
    "print(\"Sum of the array:\", array_sum(array))"
   ]
  },
  {
   "cell_type": "code",
   "execution_count": null,
   "id": "b1e13766-ba26-47d8-93af-e2a0980f5239",
   "metadata": {},
   "outputs": [],
   "source": [
    "Q2-Write a Python Program to find largest element in an array?"
   ]
  },
  {
   "cell_type": "code",
   "execution_count": 2,
   "id": "5e81908b-cc91-4f83-8ab0-d3182bc84c10",
   "metadata": {},
   "outputs": [
    {
     "name": "stdout",
     "output_type": "stream",
     "text": [
      "Largest element in the array: 36\n"
     ]
    }
   ],
   "source": [
    "def find_largest_element(arr):\n",
    "    # Check if the array is empty\n",
    "    if not arr:\n",
    "        return \"Array is empty\"\n",
    "    \n",
    "    # Initialize the largest element with the first element of the array\n",
    "    largest = arr[0]\n",
    "    \n",
    "    # Iterate through the array to find the largest element\n",
    "    for num in arr:\n",
    "        if num > largest:\n",
    "            largest = num\n",
    "            \n",
    "    return largest\n",
    "\n",
    "# Test the program\n",
    "array = [10, 25, 8, 36, 17]\n",
    "print(\"Largest element in the array:\", find_largest_element(array))"
   ]
  },
  {
   "cell_type": "code",
   "execution_count": null,
   "id": "8c86e82d-c9f9-4c01-97fa-ab67c07f3594",
   "metadata": {},
   "outputs": [],
   "source": [
    "Q3- Write a Python Program for array rotation?"
   ]
  },
  {
   "cell_type": "code",
   "execution_count": 3,
   "id": "93cf8799-7877-4d29-af4e-5c577a0020cd",
   "metadata": {},
   "outputs": [
    {
     "name": "stdout",
     "output_type": "stream",
     "text": [
      "Original array: [1, 2, 3, 4, 5]\n",
      "Array after 2 left rotations: [3, 4, 5, 1, 2]\n"
     ]
    }
   ],
   "source": [
    "def rotate_array(arr, rotations):\n",
    "    # Calculate the length of the array\n",
    "    n = len(arr)\n",
    "    \n",
    "    # Handle edge cases\n",
    "    if n == 0:\n",
    "        return \"Array is empty\"\n",
    "    \n",
    "    # Calculate the effective number of rotations\n",
    "    rotations %= n\n",
    "    \n",
    "    # Rotate the array using slicing\n",
    "    rotated_array = arr[rotations:] + arr[:rotations]\n",
    "    \n",
    "    return rotated_array\n",
    "\n",
    "# Test the program\n",
    "array = [1, 2, 3, 4, 5]\n",
    "rotations = 2\n",
    "print(\"Original array:\", array)\n",
    "print(\"Array after\", rotations, \"left rotations:\", rotate_array(array, rotations))"
   ]
  },
  {
   "cell_type": "code",
   "execution_count": null,
   "id": "eb77b245-60f3-49d9-bb70-8d398a408a9a",
   "metadata": {},
   "outputs": [],
   "source": [
    "Q4-Write a Python Program to Split the array and add the first part to the end?"
   ]
  },
  {
   "cell_type": "code",
   "execution_count": 4,
   "id": "79d04b74-fd00-4482-9c8a-07b38ccee9fc",
   "metadata": {},
   "outputs": [
    {
     "name": "stdout",
     "output_type": "stream",
     "text": [
      "Original array: [1, 2, 3, 4, 5]\n",
      "Array after splitting at index 2 and adding the first part to the end: [3, 4, 5, 1, 2]\n"
     ]
    }
   ],
   "source": [
    "def split_and_add(arr, split_index):\n",
    "    # Check if the split index is within the bounds of the array\n",
    "    if split_index < 0 or split_index >= len(arr):\n",
    "        return \"Invalid split index\"\n",
    "    \n",
    "    # Split the array into two parts\n",
    "    first_part = arr[:split_index]\n",
    "    second_part = arr[split_index:]\n",
    "    \n",
    "    # Add the first part to the end of the second part\n",
    "    rotated_array = second_part + first_part\n",
    "    \n",
    "    return rotated_array\n",
    "\n",
    "# Test the program\n",
    "array = [1, 2, 3, 4, 5]\n",
    "split_index = 2\n",
    "print(\"Original array:\", array)\n",
    "print(\"Array after splitting at index\", split_index, \"and adding the first part to the end:\", split_and_add(array, split_index))"
   ]
  },
  {
   "cell_type": "code",
   "execution_count": null,
   "id": "a36bfdef-4642-4c25-8e9d-f1c6ec002f2f",
   "metadata": {},
   "outputs": [],
   "source": [
    "Q5-Write a Python Program to check if given array is Monotonic?"
   ]
  },
  {
   "cell_type": "code",
   "execution_count": null,
   "id": "20150e85-ca3c-4825-b222-fbf70aa38dc3",
   "metadata": {},
   "outputs": [],
   "source": []
  }
 ],
 "metadata": {
  "kernelspec": {
   "display_name": "Python 3 (ipykernel)",
   "language": "python",
   "name": "python3"
  },
  "language_info": {
   "codemirror_mode": {
    "name": "ipython",
    "version": 3
   },
   "file_extension": ".py",
   "mimetype": "text/x-python",
   "name": "python",
   "nbconvert_exporter": "python",
   "pygments_lexer": "ipython3",
   "version": "3.10.8"
  }
 },
 "nbformat": 4,
 "nbformat_minor": 5
}
