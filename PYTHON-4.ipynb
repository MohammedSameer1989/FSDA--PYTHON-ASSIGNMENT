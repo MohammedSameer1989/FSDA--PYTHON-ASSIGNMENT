{
 "cells": [
  {
   "cell_type": "markdown",
   "id": "e3fc7063-6ded-43ce-8fb6-fcaea85e1882",
   "metadata": {},
   "source": [
    "Q1. Write a Python Program to Find the Factorial of a Number?"
   ]
  },
  {
   "cell_type": "code",
   "execution_count": 1,
   "id": "d47e91ca-1c8f-4055-ba20-22503ee80eb9",
   "metadata": {},
   "outputs": [
    {
     "name": "stdout",
     "output_type": "stream",
     "text": [
      "The factorial of 5 is 120\n",
      "The factorial of 0 is 1\n",
      "The factorial of 10 is 3628800\n",
      "The factorial of 7 is 5040\n"
     ]
    }
   ],
   "source": [
    "def factorial(n):\n",
    "    if n == 0:\n",
    "        return 1\n",
    "    else:\n",
    "        return n * factorial(n - 1)\n",
    "\n",
    "# Test the function with some numbers\n",
    "numbers = [5, 0, 10, 7]\n",
    "\n",
    "for num in numbers:\n",
    "    print(f\"The factorial of {num} is {factorial(num)}\")"
   ]
  },
  {
   "cell_type": "markdown",
   "id": "3e372922-a08f-49c8-92dd-bdbaef863072",
   "metadata": {},
   "source": [
    "Q2-Write a Python Program to Display the multiplication Table?"
   ]
  },
  {
   "cell_type": "code",
   "execution_count": 2,
   "id": "704c871f-fe60-40cf-991b-b1a36f038693",
   "metadata": {},
   "outputs": [
    {
     "name": "stdout",
     "output_type": "stream",
     "text": [
      "Multiplication table of 5:\n",
      "5 x 1 = 5\n",
      "5 x 2 = 10\n",
      "5 x 3 = 15\n",
      "5 x 4 = 20\n",
      "5 x 5 = 25\n",
      "5 x 6 = 30\n",
      "5 x 7 = 35\n",
      "5 x 8 = 40\n",
      "5 x 9 = 45\n",
      "5 x 10 = 50\n"
     ]
    }
   ],
   "source": [
    "def multiplication_table(number, limit):\n",
    "    print(f\"Multiplication table of {number}:\")\n",
    "    for i in range(1, limit + 1):\n",
    "        print(f\"{number} x {i} = {number * i}\")\n",
    "\n",
    "# Test the function with a number and limit\n",
    "multiplication_table(5, 10)"
   ]
  },
  {
   "cell_type": "markdown",
   "id": "cf34a98b-87b4-4cef-a3b9-b1a5c1bbd5aa",
   "metadata": {},
   "source": [
    "Q3-Write a Python Program to Print the Fibonacci sequence?"
   ]
  },
  {
   "cell_type": "code",
   "execution_count": 3,
   "id": "73a44794-e5ca-4a9e-a761-f90f7fa620c2",
   "metadata": {},
   "outputs": [
    {
     "name": "stdout",
     "output_type": "stream",
     "text": [
      "Fibonacci sequence up to 10 terms:\n",
      "[0, 1, 1, 2, 3, 5, 8, 13, 21, 34]\n"
     ]
    }
   ],
   "source": [
    "def fibonacci_sequence(n):\n",
    "    fibonacci_series = [0, 1]  # Initialize the Fibonacci series with the first two terms\n",
    "\n",
    "    # Generate Fibonacci sequence\n",
    "    for i in range(2, n):\n",
    "        next_term = fibonacci_series[-1] + fibonacci_series[-2]\n",
    "        fibonacci_series.append(next_term)\n",
    "\n",
    "    return fibonacci_series\n",
    "\n",
    "# Test the function with the number of terms\n",
    "num_terms = 10  # Change this value to print the Fibonacci sequence up to a different number of terms\n",
    "fibonacci_series = fibonacci_sequence(num_terms)\n",
    "print(f\"Fibonacci sequence up to {num_terms} terms:\")\n",
    "print(fibonacci_series)"
   ]
  },
  {
   "cell_type": "markdown",
   "id": "a990f83c-eb64-4b98-8a80-1ce7e287e9e0",
   "metadata": {},
   "source": [
    "Q4-Write a Python Program to Check Armstrong Number?"
   ]
  },
  {
   "cell_type": "code",
   "execution_count": 4,
   "id": "56454622-b20b-4051-93cc-ab22c366a871",
   "metadata": {},
   "outputs": [
    {
     "name": "stdout",
     "output_type": "stream",
     "text": [
      "153 is an Armstrong number\n",
      "370 is an Armstrong number\n",
      "947 is not an Armstrong number\n",
      "407 is an Armstrong number\n"
     ]
    }
   ],
   "source": [
    "def is_armstrong_number(number):\n",
    "    # Convert the number to a string to get its length\n",
    "    num_str = str(number)\n",
    "    num_digits = len(num_str)\n",
    "    \n",
    "    # Calculate the sum of the cubes of its digits\n",
    "    sum_of_cubes = sum(int(digit) ** num_digits for digit in num_str)\n",
    "    \n",
    "    # Check if the sum equals the original number\n",
    "    return sum_of_cubes == number\n",
    "\n",
    "# Test the function with some numbers\n",
    "numbers = [153, 370, 947, 407]\n",
    "\n",
    "for num in numbers:\n",
    "    if is_armstrong_number(num):\n",
    "        print(f\"{num} is an Armstrong number\")\n",
    "    else:\n",
    "        print(f\"{num} is not an Armstrong number\")\n"
   ]
  },
  {
   "cell_type": "markdown",
   "id": "70b00b87-849f-4f14-b30a-2d227427e8d1",
   "metadata": {},
   "source": [
    "Q5-Write a Python Program to Find Armstrong Number in an Interval?"
   ]
  },
  {
   "cell_type": "code",
   "execution_count": 5,
   "id": "409e01bb-5f43-453c-9910-65461cc26181",
   "metadata": {},
   "outputs": [
    {
     "name": "stdout",
     "output_type": "stream",
     "text": [
      "Armstrong numbers in the interval [100, 1000]:\n",
      "[153, 370, 371, 407]\n"
     ]
    }
   ],
   "source": [
    "def is_armstrong_number(number):\n",
    "    # Convert the number to a string to get its length\n",
    "    num_str = str(number)\n",
    "    num_digits = len(num_str)\n",
    "    \n",
    "    # Calculate the sum of the cubes of its digits\n",
    "    sum_of_cubes = sum(int(digit) ** num_digits for digit in num_str)\n",
    "    \n",
    "    # Check if the sum equals the original number\n",
    "    return sum_of_cubes == number\n",
    "\n",
    "def find_armstrong_numbers(start, end):\n",
    "    armstrong_numbers = []\n",
    "    for num in range(start, end + 1):\n",
    "        if is_armstrong_number(num):\n",
    "            armstrong_numbers.append(num)\n",
    "    return armstrong_numbers\n",
    "\n",
    "# Test the function with an interval\n",
    "start = 100\n",
    "end = 1000\n",
    "print(f\"Armstrong numbers in the interval [{start}, {end}]:\")\n",
    "print(find_armstrong_numbers(start, end))"
   ]
  },
  {
   "cell_type": "markdown",
   "id": "9c901697-fe5c-403d-baf1-a451f21dbaf8",
   "metadata": {},
   "source": [
    "Q6-Write a Python Program to Find the Sum of Natural Numbers?"
   ]
  },
  {
   "cell_type": "code",
   "execution_count": 6,
   "id": "d953bfc4-1c8a-4495-85b9-cd63075490cf",
   "metadata": {},
   "outputs": [
    {
     "name": "stdout",
     "output_type": "stream",
     "text": [
      "The sum of natural numbers up to 10 is: 55\n"
     ]
    }
   ],
   "source": [
    "def sum_of_natural_numbers(n):\n",
    "    # Calculate the sum using the formula for the sum of an arithmetic series\n",
    "    sum_of_n = n * (n + 1) // 2\n",
    "    return sum_of_n\n",
    "\n",
    "# Test the function with a number\n",
    "num = 10  # Change this value to find the sum of natural numbers up to a different number\n",
    "print(f\"The sum of natural numbers up to {num} is: {sum_of_natural_numbers(num)}\")"
   ]
  },
  {
   "cell_type": "code",
   "execution_count": null,
   "id": "b5c58250-9deb-4bfb-b527-b5b6771129f3",
   "metadata": {},
   "outputs": [],
   "source": []
  }
 ],
 "metadata": {
  "kernelspec": {
   "display_name": "Python 3 (ipykernel)",
   "language": "python",
   "name": "python3"
  },
  "language_info": {
   "codemirror_mode": {
    "name": "ipython",
    "version": 3
   },
   "file_extension": ".py",
   "mimetype": "text/x-python",
   "name": "python",
   "nbconvert_exporter": "python",
   "pygments_lexer": "ipython3",
   "version": "3.10.8"
  }
 },
 "nbformat": 4,
 "nbformat_minor": 5
}
