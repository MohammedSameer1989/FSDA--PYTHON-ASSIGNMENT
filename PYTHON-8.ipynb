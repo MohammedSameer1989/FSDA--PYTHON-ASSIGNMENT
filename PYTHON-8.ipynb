{
 "cells": [
  {
   "cell_type": "code",
   "execution_count": null,
   "id": "392c3ce2-d89f-46a2-9fec-490608d4731d",
   "metadata": {},
   "outputs": [],
   "source": [
    "Q1-Write a Python Program to Add Two Matrices?"
   ]
  },
  {
   "cell_type": "code",
   "execution_count": 1,
   "id": "e822b79d-5ea3-4ed2-9fee-14644f0834f5",
   "metadata": {},
   "outputs": [
    {
     "name": "stdout",
     "output_type": "stream",
     "text": [
      "Matrix 1:\n",
      "[1, 2, 3]\n",
      "[4, 5, 6]\n",
      "[7, 8, 9]\n",
      "\n",
      "Matrix 2:\n",
      "[9, 8, 7]\n",
      "[6, 5, 4]\n",
      "[3, 2, 1]\n",
      "\n",
      "Resultant matrix after addition:\n",
      "[10, 10, 10]\n",
      "[10, 10, 10]\n",
      "[10, 10, 10]\n"
     ]
    }
   ],
   "source": [
    "def add_matrices(matrix1, matrix2):\n",
    "    # Check if the matrices have the same dimensions\n",
    "    if len(matrix1) != len(matrix2) or len(matrix1[0]) != len(matrix2[0]):\n",
    "        return \"Matrices must have the same dimensions for addition\"\n",
    "    \n",
    "    # Initialize the result matrix with zeros\n",
    "    result = [[0 for _ in range(len(matrix1[0]))] for _ in range(len(matrix1))]\n",
    "    \n",
    "    # Add corresponding elements of the two matrices\n",
    "    for i in range(len(matrix1)):\n",
    "        for j in range(len(matrix1[0])):\n",
    "            result[i][j] = matrix1[i][j] + matrix2[i][j]\n",
    "    \n",
    "    return result\n",
    "\n",
    "# Test the program\n",
    "matrix1 = [[1, 2, 3],\n",
    "           [4, 5, 6],\n",
    "           [7, 8, 9]]\n",
    "\n",
    "matrix2 = [[9, 8, 7],\n",
    "           [6, 5, 4],\n",
    "           [3, 2, 1]]\n",
    "\n",
    "print(\"Matrix 1:\")\n",
    "for row in matrix1:\n",
    "    print(row)\n",
    "\n",
    "print(\"\\nMatrix 2:\")\n",
    "for row in matrix2:\n",
    "    print(row)\n",
    "\n",
    "print(\"\\nResultant matrix after addition:\")\n",
    "result = add_matrices(matrix1, matrix2)\n",
    "for row in result:\n",
    "    print(row)"
   ]
  },
  {
   "cell_type": "code",
   "execution_count": null,
   "id": "a342bd6f-1dde-4abc-9bd7-fb257c488ee2",
   "metadata": {},
   "outputs": [],
   "source": [
    "Q2-Write a Python Program to Multiply Two Matrices?"
   ]
  },
  {
   "cell_type": "code",
   "execution_count": 2,
   "id": "1387c775-5ca4-4773-90a2-2d646fe09c1c",
   "metadata": {},
   "outputs": [
    {
     "name": "stdout",
     "output_type": "stream",
     "text": [
      "Matrix 1:\n",
      "[1, 2, 3]\n",
      "[4, 5, 6]\n",
      "\n",
      "Matrix 2:\n",
      "[7, 8]\n",
      "[9, 10]\n",
      "[11, 12]\n",
      "\n",
      "Resultant matrix after multiplication:\n",
      "[58, 64]\n",
      "[139, 154]\n"
     ]
    }
   ],
   "source": [
    "def multiply_matrices(matrix1, matrix2):\n",
    "    # Check if the number of columns in matrix1 is equal to the number of rows in matrix2\n",
    "    if len(matrix1[0]) != len(matrix2):\n",
    "        return \"Number of columns in the first matrix must be equal to the number of rows in the second matrix for multiplication\"\n",
    "    \n",
    "    # Initialize the result matrix with zeros\n",
    "    result = [[0 for _ in range(len(matrix2[0]))] for _ in range(len(matrix1))]\n",
    "    \n",
    "    # Perform matrix multiplication\n",
    "    for i in range(len(matrix1)):\n",
    "        for j in range(len(matrix2[0])):\n",
    "            for k in range(len(matrix2)):\n",
    "                result[i][j] += matrix1[i][k] * matrix2[k][j]\n",
    "    \n",
    "    return result\n",
    "\n",
    "# Test the program\n",
    "matrix1 = [[1, 2, 3],\n",
    "           [4, 5, 6]]\n",
    "\n",
    "matrix2 = [[7, 8],\n",
    "           [9, 10],\n",
    "           [11, 12]]\n",
    "\n",
    "print(\"Matrix 1:\")\n",
    "for row in matrix1:\n",
    "    print(row)\n",
    "\n",
    "print(\"\\nMatrix 2:\")\n",
    "for row in matrix2:\n",
    "    print(row)\n",
    "\n",
    "print(\"\\nResultant matrix after multiplication:\")\n",
    "result = multiply_matrices(matrix1, matrix2)\n",
    "for row in result:\n",
    "    print(row)"
   ]
  },
  {
   "cell_type": "code",
   "execution_count": null,
   "id": "933858a9-89c2-4500-b246-82e239a4dc65",
   "metadata": {},
   "outputs": [],
   "source": [
    "Q3-Write a Python Program to Transpose a Matrix?"
   ]
  },
  {
   "cell_type": "code",
   "execution_count": 3,
   "id": "a036b414-3c3c-4464-969b-0ac5b5b90a76",
   "metadata": {},
   "outputs": [
    {
     "name": "stdout",
     "output_type": "stream",
     "text": [
      "Original matrix:\n",
      "[1, 2, 3]\n",
      "[4, 5, 6]\n",
      "[7, 8, 9]\n",
      "\n",
      "Transposed matrix:\n",
      "[1, 4, 7]\n",
      "[2, 5, 8]\n",
      "[3, 6, 9]\n"
     ]
    }
   ],
   "source": [
    "def transpose_matrix(matrix):\n",
    "    # Calculate the number of rows and columns in the matrix\n",
    "    rows = len(matrix)\n",
    "    cols = len(matrix[0])\n",
    "    \n",
    "    # Initialize the transposed matrix with zeros\n",
    "    transposed_matrix = [[0 for _ in range(rows)] for _ in range(cols)]\n",
    "    \n",
    "    # Transpose the matrix\n",
    "    for i in range(rows):\n",
    "        for j in range(cols):\n",
    "            transposed_matrix[j][i] = matrix[i][j]\n",
    "    \n",
    "    return transposed_matrix\n",
    "\n",
    "# Test the program\n",
    "matrix = [[1, 2, 3],\n",
    "          [4, 5, 6],\n",
    "          [7, 8, 9]]\n",
    "\n",
    "print(\"Original matrix:\")\n",
    "for row in matrix:\n",
    "    print(row)\n",
    "\n",
    "print(\"\\nTransposed matrix:\")\n",
    "transposed_matrix = transpose_matrix(matrix)\n",
    "for row in transposed_matrix:\n",
    "    print(row)"
   ]
  },
  {
   "cell_type": "code",
   "execution_count": null,
   "id": "31595da0-e5e6-47b2-adf2-38504c2a60b1",
   "metadata": {},
   "outputs": [],
   "source": [
    "Q4-Write a Python Program to Sort Words in Alphabetic Order?"
   ]
  },
  {
   "cell_type": "code",
   "execution_count": 4,
   "id": "37a56237-795e-4add-86f4-f28a4b6588f2",
   "metadata": {},
   "outputs": [
    {
     "name": "stdout",
     "output_type": "stream",
     "text": [
      "Original sentence: Python is a powerful programming language\n",
      "Sentence with words sorted alphabetically: Python a is language powerful programming\n"
     ]
    }
   ],
   "source": [
    "def sort_words_alphabetically(sentence):\n",
    "    # Split the sentence into words\n",
    "    words = sentence.split()\n",
    "\n",
    "    # Sort the words alphabetically\n",
    "    sorted_words = sorted(words)\n",
    "\n",
    "    # Join the sorted words back into a sentence\n",
    "    sorted_sentence = ' '.join(sorted_words)\n",
    "\n",
    "    return sorted_sentence\n",
    "\n",
    "# Test the program\n",
    "sentence = \"Python is a powerful programming language\"\n",
    "print(\"Original sentence:\", sentence)\n",
    "print(\"Sentence with words sorted alphabetically:\", sort_words_alphabetically(sentence))"
   ]
  },
  {
   "cell_type": "code",
   "execution_count": null,
   "id": "9a709196-0fed-48ee-bcdb-1afddb7c62ec",
   "metadata": {},
   "outputs": [],
   "source": [
    "Q5-Write a Python Program to Remove Punctuation From a String?"
   ]
  }
 ],
 "metadata": {
  "kernelspec": {
   "display_name": "Python 3 (ipykernel)",
   "language": "python",
   "name": "python3"
  },
  "language_info": {
   "codemirror_mode": {
    "name": "ipython",
    "version": 3
   },
   "file_extension": ".py",
   "mimetype": "text/x-python",
   "name": "python",
   "nbconvert_exporter": "python",
   "pygments_lexer": "ipython3",
   "version": "3.10.8"
  }
 },
 "nbformat": 4,
 "nbformat_minor": 5
}
